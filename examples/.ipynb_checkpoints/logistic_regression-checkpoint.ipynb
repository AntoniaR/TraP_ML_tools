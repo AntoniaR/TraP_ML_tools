{
 "cells": [
  {
   "cell_type": "markdown",
   "metadata": {},
   "source": [
    "# logistic_regression.ipynb\n",
    "\n",
    "#### A code to use the logistic regression strategy to classify using max flux, max flux / average flux, eta and V"
   ]
  },
  {
   "cell_type": "markdown",
   "metadata": {},
   "source": [
    "#### Import all the dependencies and generic setup"
   ]
  },
  {
   "cell_type": "code",
   "execution_count": 1,
   "metadata": {
    "collapsed": false
   },
   "outputs": [],
   "source": [
    "%matplotlib inline\n",
    "import matplotlib\n",
    "import matplotlib.pyplot as plt\n",
    "import pylab\n",
    "pylab.rcParams['legend.loc'] = 'best'\n",
    "from matplotlib.ticker import NullFormatter\n",
    "from matplotlib.font_manager import FontProperties\n",
    "import os\n",
    "import glob\n",
    "import numpy as np\n",
    "import pandas as pd\n",
    "from scipy import optimize\n",
    "import tkp.db\n",
    "import logging\n",
    "query_loglevel = logging.WARNING  # Set to INFO to see queries, otherwise WARNING\n",
    "import sqlalchemy\n",
    "from sqlalchemy import *\n",
    "from sqlalchemy.orm import relationship\n",
    "import sys\n",
    "sys.path.append('../')\n",
    "from dblogin import * # This file contains all the variables required to connect to the database\n",
    "from database_tools import dbtools\n",
    "from tools import tools\n",
    "from plotting import plot_varib_params as pltvp\n",
    "from machine_learning import train_logistic_regression\n",
    "from machine_learning import generic_tools"
   ]
  },
  {
   "cell_type": "markdown",
   "metadata": {},
   "source": [
    "#### The input data and thresholds"
   ]
  },
  {
   "cell_type": "code",
   "execution_count": 2,
   "metadata": {
    "collapsed": true
   },
   "outputs": [],
   "source": [
    "tests = False\n",
    "plots = False\n",
    "lda = 0.1\n",
    "stableData = 'stable_sources.csv'\n",
    "simulatedData = 'sim_*_trans_data.csv'"
   ]
  },
  {
   "cell_type": "markdown",
   "metadata": {},
   "source": [
    "#### setting the options for the scipy optimise function"
   ]
  },
  {
   "cell_type": "code",
   "execution_count": 3,
   "metadata": {
    "collapsed": true
   },
   "outputs": [],
   "source": [
    "options = {'full_output': True, 'maxiter': 5000, 'ftol': 1e-4, 'maxfun': 5000, 'disp': True}"
   ]
  },
  {
   "cell_type": "markdown",
   "metadata": {},
   "source": [
    "#### Load the data and give appropriate labels"
   ]
  },
  {
   "cell_type": "code",
   "execution_count": 4,
   "metadata": {
    "collapsed": true
   },
   "outputs": [],
   "source": [
    "all_data = generic_tools.load_data(stableData,simulatedData)"
   ]
  },
  {
   "cell_type": "markdown",
   "metadata": {},
   "source": [
    "#### Load the simulations and only keep those with a full lightcurve and with variability parameters > 0"
   ]
  },
  {
   "cell_type": "code",
   "execution_count": 5,
   "metadata": {
    "collapsed": false
   },
   "outputs": [],
   "source": [
    "all_data=all_data.loc[(all_data['ttype'] == 2) & (all_data['V']>0.) & (all_data['eta']>0.)]\n"
   ]
  },
  {
   "cell_type": "markdown",
   "metadata": {},
   "source": [
    "#### put the training data into the format required for the training"
   ]
  },
  {
   "cell_type": "code",
   "execution_count": 6,
   "metadata": {
    "collapsed": false
   },
   "outputs": [],
   "source": [
    "data=all_data.apply(lambda row:[row['#Runcat'],np.log10(row['eta']),np.log10(row['V']),row['flux'],row['fluxrat'],row['variable']],axis=1)\n",
    "data = data.as_matrix()"
   ]
  },
  {
   "cell_type": "markdown",
   "metadata": {},
   "source": [
    "#### Train algorithm using the full dataset"
   ]
  },
  {
   "cell_type": "code",
   "execution_count": 7,
   "metadata": {
    "collapsed": false
   },
   "outputs": [
    {
     "name": "stderr",
     "output_type": "stream",
     "text": [
      "../machine_learning/train_logistic_regression.py:27: RuntimeWarning: divide by zero encountered in log\n",
      "  J=(1/float(m))*(-y.dot(np.log(sig)) - (1-y).dot(np.log(1-sig)))\n"
     ]
    },
    {
     "name": "stdout",
     "output_type": "stream",
     "text": [
      "Optimization terminated successfully.\n",
      "         Current function value: 0.006443\n",
      "         Iterations: 441\n",
      "         Function evaluations: 746\n"
     ]
    }
   ],
   "source": [
    "shuffled = np.matrix(generic_tools.shuffle_datasets(data))\n",
    "shuffledTMP=shuffled[:,1:].astype(float)\n",
    "ids=shuffled[:,0]\n",
    "X, y = train_logistic_regression.create_X_y_arrays(np.matrix(np.array(shuffledTMP)))\n",
    "initial_theta=np.zeros((X.shape[1]))\n",
    "theta, cost, _, _, _ = optimize.fmin(lambda t: train_logistic_regression.reg_cost_func(t,X,y.T,lda), initial_theta, **options)"
   ]
  },
  {
   "cell_type": "markdown",
   "metadata": {},
   "source": [
    "#### Classify the full dataset"
   ]
  },
  {
   "cell_type": "code",
   "execution_count": 44,
   "metadata": {
    "collapsed": false,
    "scrolled": false
   },
   "outputs": [],
   "source": [
    "tp, fp, fn, tn, classified = train_logistic_regression.classify_data(X,y.T,theta)\n",
    "classified=np.array(np.c_[ids,classified,y])\n",
    "classified=pd.DataFrame(data=classified, columns=['#Runcat','eta','V','flux','flxrat','classified','label'])\n",
    "classified=classified.apply(lambda row:[row['#Runcat'],10.**(float(row['eta'])),10.**(float(row['V'])),float(row['flux']),float(row['flxrat']),row['classified'],row['label']],axis=1)"
   ]
  },
  {
   "cell_type": "markdown",
   "metadata": {},
   "source": [
    "#### Calculate the precision and recall"
   ]
  },
  {
   "cell_type": "code",
   "execution_count": 45,
   "metadata": {
    "collapsed": false
   },
   "outputs": [
    {
     "name": "stdout",
     "output_type": "stream",
     "text": [
      "Logistic Regression Model: [-3.02245425  1.93094524  6.43588613  0.12780997  0.82713699]\n",
      "Precision: 0.985815602837, Recall: 0.863354037267\n"
     ]
    }
   ],
   "source": [
    "precision, recall = generic_tools.precision_and_recall(tp,fp,fn)\n",
    "print \"Logistic Regression Model: \"+str(theta)\n",
    "print \"Precision: \"+str(precision)+\", Recall: \"+str(recall)"
   ]
  },
  {
   "cell_type": "code",
   "execution_count": 46,
   "metadata": {
    "collapsed": false
   },
   "outputs": [
    {
     "data": {
      "text/html": [
       "<div>\n",
       "<table border=\"1\" class=\"dataframe\">\n",
       "  <thead>\n",
       "    <tr style=\"text-align: right;\">\n",
       "      <th></th>\n",
       "      <th>#Runcat</th>\n",
       "      <th>eta</th>\n",
       "      <th>V</th>\n",
       "      <th>flux</th>\n",
       "      <th>flxrat</th>\n",
       "      <th>classified</th>\n",
       "      <th>label</th>\n",
       "    </tr>\n",
       "  </thead>\n",
       "  <tbody>\n",
       "    <tr>\n",
       "      <th>10049</th>\n",
       "      <td>12697</td>\n",
       "      <td>8.725815</td>\n",
       "      <td>2.175489</td>\n",
       "      <td>0.304853</td>\n",
       "      <td>4.260498</td>\n",
       "      <td>FP</td>\n",
       "      <td>0.0</td>\n",
       "    </tr>\n",
       "    <tr>\n",
       "      <th>10912</th>\n",
       "      <td>12831</td>\n",
       "      <td>0.255564</td>\n",
       "      <td>2.191882</td>\n",
       "      <td>0.060168</td>\n",
       "      <td>3.644709</td>\n",
       "      <td>FP</td>\n",
       "      <td>0.0</td>\n",
       "    </tr>\n",
       "    <tr>\n",
       "      <th>12103</th>\n",
       "      <td>8127</td>\n",
       "      <td>0.231248</td>\n",
       "      <td>4.829839</td>\n",
       "      <td>0.035242</td>\n",
       "      <td>4.415212</td>\n",
       "      <td>FP</td>\n",
       "      <td>0.0</td>\n",
       "    </tr>\n",
       "    <tr>\n",
       "      <th>14517</th>\n",
       "      <td>12697</td>\n",
       "      <td>0.104535</td>\n",
       "      <td>3.038042</td>\n",
       "      <td>0.035532</td>\n",
       "      <td>5.568587</td>\n",
       "      <td>FP</td>\n",
       "      <td>0.0</td>\n",
       "    </tr>\n",
       "  </tbody>\n",
       "</table>\n",
       "</div>"
      ],
      "text/plain": [
       "      #Runcat       eta         V      flux    flxrat classified label\n",
       "10049   12697  8.725815  2.175489  0.304853  4.260498         FP   0.0\n",
       "10912   12831  0.255564  2.191882  0.060168  3.644709         FP   0.0\n",
       "12103    8127  0.231248  4.829839  0.035242  4.415212         FP   0.0\n",
       "14517   12697  0.104535  3.038042  0.035532  5.568587         FP   0.0"
      ]
     },
     "execution_count": 46,
     "metadata": {},
     "output_type": "execute_result"
    }
   ],
   "source": [
    "classified.loc[(classified['classified'] == 'FP')]"
   ]
  },
  {
   "cell_type": "markdown",
   "metadata": {},
   "source": [
    "#### Create eta V plot showing training results"
   ]
  },
  {
   "cell_type": "code",
   "execution_count": 49,
   "metadata": {
    "collapsed": false
   },
   "outputs": [
    {
     "data": {
      "text/plain": [
       "(-6.0, 1.0)"
      ]
     },
     "execution_count": 49,
     "metadata": {},
     "output_type": "execute_result"
    },
    {
     "data": {
      "image/png": "[encoded data removed]",
      "text/plain": [
       "<matplotlib.figure.Figure at 0x7f272ebea610>"
      ]
     },
     "metadata": {},
     "output_type": "display_data"
    }
   ],
   "source": [
    "plotdata=classified\n",
    "frequencies=plotdata.classified.unique()\n",
    "col = pltvp.make_cmap(frequencies)\n",
    "\n",
    "nullfmt   = NullFormatter()         # no labels\n",
    "fontP = FontProperties()\n",
    "fontP.set_size('large')\n",
    "left, width = 0.1, 0.65\n",
    "bottom, height = 0.1, 0.65\n",
    "bottom_h = left_h = left+width+0.02\n",
    "rect_scatter = [left, bottom, width, height]\n",
    "rect_histx = [left, bottom_h, width, 0.2]\n",
    "rect_histy = [left_h, bottom, 0.2, height]\n",
    "fig = plt.figure(1,figsize=(12,12))\n",
    "axScatter = fig.add_subplot(223, position=rect_scatter)\n",
    "plt.xlabel(r'$\\eta_{\\nu}$', fontsize=28)\n",
    "plt.ylabel(r'$V_{\\nu}$', fontsize=28)\n",
    "axHistx=fig.add_subplot(221, position=rect_histx)\n",
    "axHisty=fig.add_subplot(224, position=rect_histy)\n",
    "axHistx.xaxis.set_major_formatter(nullfmt)\n",
    "axHisty.yaxis.set_major_formatter(nullfmt)\n",
    "axHistx.axes.yaxis.set_ticklabels([])\n",
    "axHisty.axes.xaxis.set_ticklabels([])\n",
    "\n",
    "for i in range(len(frequencies)):\n",
    "    plotdataTMP=plotdata.loc[(plotdata['classified']==frequencies[i])]\n",
    "    xdata_var=np.log10(plotdataTMP['eta'])\n",
    "    ydata_var=np.log10(plotdataTMP['V'])\n",
    "    axScatter.scatter(xdata_var, ydata_var,color=col[i], s=10., zorder=5)\n",
    "\n",
    "x = np.log10(plotdata['eta'])\n",
    "y = np.log10(plotdata['V'])\n",
    "\n",
    "axHistx.hist(x, bins=pltvp.make_bins(x), normed=1, histtype='stepfilled', color='b')\n",
    "axHisty.hist(y, bins=pltvp.make_bins(y), normed=1, histtype='stepfilled', orientation='horizontal', color='b')\n",
    "\n",
    "freq_labels=[f for f in frequencies]\n",
    "axScatter.legend(freq_labels,loc=4, prop=fontP)\n",
    "xmin=int(min(x)-1.1)\n",
    "xmax=int(max(x)+1.1)\n",
    "ymin=int(min(y)-1.1)\n",
    "ymax=int(max(y)+1.1)\n",
    "xvals=range(xmin,xmax)\n",
    "xtxts=[r'$10^{'+str(a)+'}$' for a in xvals]\n",
    "yvals=range(ymin,ymax)\n",
    "ytxts=[r'$10^{'+str(a)+'}$' for a in yvals]\n",
    "axScatter.set_xlim([xmin,xmax])\n",
    "axScatter.set_ylim([ymin,ymax])\n",
    "axScatter.set_xticks(xvals)\n",
    "axScatter.set_xticklabels(xtxts, fontsize=20)\n",
    "axScatter.set_yticks(yvals)\n",
    "axScatter.set_yticklabels(ytxts, fontsize=20)\n",
    "axHistx.set_xlim( axScatter.get_xlim())\n",
    "axHisty.set_ylim( axScatter.get_ylim())\n"
   ]
  },
  {
   "cell_type": "markdown",
   "metadata": {},
   "source": [
    "#### Create the diagnostic plot"
   ]
  },
  {
   "cell_type": "code",
   "execution_count": 50,
   "metadata": {
    "collapsed": false
   },
   "outputs": [
    {
     "ename": "KeyError",
     "evalue": "'fluxrat'",
     "output_type": "error",
     "traceback": [
      "\u001b[0;31m---------------------------------------------------------------------------\u001b[0m",
      "\u001b[0;31mKeyError\u001b[0m                                  Traceback (most recent call last)",
      "\u001b[0;32m<ipython-input-50-85203a07ac30>\u001b[0m in \u001b[0;36m<module>\u001b[0;34m()\u001b[0m\n\u001b[1;32m     15\u001b[0m     \u001b[0mplotdataTMP\u001b[0m\u001b[0;34m=\u001b[0m\u001b[0mplotdata\u001b[0m\u001b[0;34m.\u001b[0m\u001b[0mloc\u001b[0m\u001b[0;34m[\u001b[0m\u001b[0;34m(\u001b[0m\u001b[0mplotdata\u001b[0m\u001b[0;34m[\u001b[0m\u001b[0;34m'classified'\u001b[0m\u001b[0;34m]\u001b[0m\u001b[0;34m==\u001b[0m\u001b[0mfrequencies\u001b[0m\u001b[0;34m[\u001b[0m\u001b[0mi\u001b[0m\u001b[0;34m]\u001b[0m\u001b[0;34m)\u001b[0m\u001b[0;34m]\u001b[0m\u001b[0;34m\u001b[0m\u001b[0m\n\u001b[1;32m     16\u001b[0m     \u001b[0mxdata_ax3\u001b[0m\u001b[0;34m=\u001b[0m\u001b[0mplotdataTMP\u001b[0m\u001b[0;34m[\u001b[0m\u001b[0;34m'flux'\u001b[0m\u001b[0;34m]\u001b[0m\u001b[0;34m\u001b[0m\u001b[0m\n\u001b[0;32m---> 17\u001b[0;31m     \u001b[0mxdata_ax4\u001b[0m\u001b[0;34m=\u001b[0m\u001b[0mplotdataTMP\u001b[0m\u001b[0;34m[\u001b[0m\u001b[0;34m'fluxrat'\u001b[0m\u001b[0;34m]\u001b[0m\u001b[0;34m\u001b[0m\u001b[0m\n\u001b[0m\u001b[1;32m     18\u001b[0m     \u001b[0mydata_ax1\u001b[0m\u001b[0;34m=\u001b[0m\u001b[0mplotdataTMP\u001b[0m\u001b[0;34m[\u001b[0m\u001b[0;34m'eta'\u001b[0m\u001b[0;34m]\u001b[0m\u001b[0;34m\u001b[0m\u001b[0m\n\u001b[1;32m     19\u001b[0m     \u001b[0mydata_ax3\u001b[0m\u001b[0;34m=\u001b[0m\u001b[0mplotdataTMP\u001b[0m\u001b[0;34m[\u001b[0m\u001b[0;34m'V'\u001b[0m\u001b[0;34m]\u001b[0m\u001b[0;34m\u001b[0m\u001b[0m\n",
      "\u001b[0;32m/home/antoniar/JupyterEnv/local/lib/python2.7/site-packages/pandas/core/frame.pyc\u001b[0m in \u001b[0;36m__getitem__\u001b[0;34m(self, key)\u001b[0m\n\u001b[1;32m   2057\u001b[0m             \u001b[0;32mreturn\u001b[0m \u001b[0mself\u001b[0m\u001b[0;34m.\u001b[0m\u001b[0m_getitem_multilevel\u001b[0m\u001b[0;34m(\u001b[0m\u001b[0mkey\u001b[0m\u001b[0;34m)\u001b[0m\u001b[0;34m\u001b[0m\u001b[0m\n\u001b[1;32m   2058\u001b[0m         \u001b[0;32melse\u001b[0m\u001b[0;34m:\u001b[0m\u001b[0;34m\u001b[0m\u001b[0m\n\u001b[0;32m-> 2059\u001b[0;31m             \u001b[0;32mreturn\u001b[0m \u001b[0mself\u001b[0m\u001b[0;34m.\u001b[0m\u001b[0m_getitem_column\u001b[0m\u001b[0;34m(\u001b[0m\u001b[0mkey\u001b[0m\u001b[0;34m)\u001b[0m\u001b[0;34m\u001b[0m\u001b[0m\n\u001b[0m\u001b[1;32m   2060\u001b[0m \u001b[0;34m\u001b[0m\u001b[0m\n\u001b[1;32m   2061\u001b[0m     \u001b[0;32mdef\u001b[0m \u001b[0m_getitem_column\u001b[0m\u001b[0;34m(\u001b[0m\u001b[0mself\u001b[0m\u001b[0;34m,\u001b[0m \u001b[0mkey\u001b[0m\u001b[0;34m)\u001b[0m\u001b[0;34m:\u001b[0m\u001b[0;34m\u001b[0m\u001b[0m\n",
      "\u001b[0;32m/home/antoniar/JupyterEnv/local/lib/python2.7/site-packages/pandas/core/frame.pyc\u001b[0m in \u001b[0;36m_getitem_column\u001b[0;34m(self, key)\u001b[0m\n\u001b[1;32m   2064\u001b[0m         \u001b[0;31m# get column\u001b[0m\u001b[0;34m\u001b[0m\u001b[0;34m\u001b[0m\u001b[0m\n\u001b[1;32m   2065\u001b[0m         \u001b[0;32mif\u001b[0m \u001b[0mself\u001b[0m\u001b[0;34m.\u001b[0m\u001b[0mcolumns\u001b[0m\u001b[0;34m.\u001b[0m\u001b[0mis_unique\u001b[0m\u001b[0;34m:\u001b[0m\u001b[0;34m\u001b[0m\u001b[0m\n\u001b[0;32m-> 2066\u001b[0;31m             \u001b[0;32mreturn\u001b[0m \u001b[0mself\u001b[0m\u001b[0;34m.\u001b[0m\u001b[0m_get_item_cache\u001b[0m\u001b[0;34m(\u001b[0m\u001b[0mkey\u001b[0m\u001b[0;34m)\u001b[0m\u001b[0;34m\u001b[0m\u001b[0m\n\u001b[0m\u001b[1;32m   2067\u001b[0m \u001b[0;34m\u001b[0m\u001b[0m\n\u001b[1;32m   2068\u001b[0m         \u001b[0;31m# duplicate columns & possible reduce dimensionality\u001b[0m\u001b[0;34m\u001b[0m\u001b[0;34m\u001b[0m\u001b[0m\n",
      "\u001b[0;32m/home/antoniar/JupyterEnv/local/lib/python2.7/site-packages/pandas/core/generic.pyc\u001b[0m in \u001b[0;36m_get_item_cache\u001b[0;34m(self, item)\u001b[0m\n\u001b[1;32m   1384\u001b[0m         \u001b[0mres\u001b[0m \u001b[0;34m=\u001b[0m \u001b[0mcache\u001b[0m\u001b[0;34m.\u001b[0m\u001b[0mget\u001b[0m\u001b[0;34m(\u001b[0m\u001b[0mitem\u001b[0m\u001b[0;34m)\u001b[0m\u001b[0;34m\u001b[0m\u001b[0m\n\u001b[1;32m   1385\u001b[0m         \u001b[0;32mif\u001b[0m \u001b[0mres\u001b[0m \u001b[0;32mis\u001b[0m \u001b[0mNone\u001b[0m\u001b[0;34m:\u001b[0m\u001b[0;34m\u001b[0m\u001b[0m\n\u001b[0;32m-> 1386\u001b[0;31m             \u001b[0mvalues\u001b[0m \u001b[0;34m=\u001b[0m \u001b[0mself\u001b[0m\u001b[0;34m.\u001b[0m\u001b[0m_data\u001b[0m\u001b[0;34m.\u001b[0m\u001b[0mget\u001b[0m\u001b[0;34m(\u001b[0m\u001b[0mitem\u001b[0m\u001b[0;34m)\u001b[0m\u001b[0;34m\u001b[0m\u001b[0m\n\u001b[0m\u001b[1;32m   1387\u001b[0m             \u001b[0mres\u001b[0m \u001b[0;34m=\u001b[0m \u001b[0mself\u001b[0m\u001b[0;34m.\u001b[0m\u001b[0m_box_item_values\u001b[0m\u001b[0;34m(\u001b[0m\u001b[0mitem\u001b[0m\u001b[0;34m,\u001b[0m \u001b[0mvalues\u001b[0m\u001b[0;34m)\u001b[0m\u001b[0;34m\u001b[0m\u001b[0m\n\u001b[1;32m   1388\u001b[0m             \u001b[0mcache\u001b[0m\u001b[0;34m[\u001b[0m\u001b[0mitem\u001b[0m\u001b[0;34m]\u001b[0m \u001b[0;34m=\u001b[0m \u001b[0mres\u001b[0m\u001b[0;34m\u001b[0m\u001b[0m\n",
      "\u001b[0;32m/home/antoniar/JupyterEnv/local/lib/python2.7/site-packages/pandas/core/internals.pyc\u001b[0m in \u001b[0;36mget\u001b[0;34m(self, item, fastpath)\u001b[0m\n\u001b[1;32m   3541\u001b[0m \u001b[0;34m\u001b[0m\u001b[0m\n\u001b[1;32m   3542\u001b[0m             \u001b[0;32mif\u001b[0m \u001b[0;32mnot\u001b[0m \u001b[0misnull\u001b[0m\u001b[0;34m(\u001b[0m\u001b[0mitem\u001b[0m\u001b[0;34m)\u001b[0m\u001b[0;34m:\u001b[0m\u001b[0;34m\u001b[0m\u001b[0m\n\u001b[0;32m-> 3543\u001b[0;31m                 \u001b[0mloc\u001b[0m \u001b[0;34m=\u001b[0m \u001b[0mself\u001b[0m\u001b[0;34m.\u001b[0m\u001b[0mitems\u001b[0m\u001b[0;34m.\u001b[0m\u001b[0mget_loc\u001b[0m\u001b[0;34m(\u001b[0m\u001b[0mitem\u001b[0m\u001b[0;34m)\u001b[0m\u001b[0;34m\u001b[0m\u001b[0m\n\u001b[0m\u001b[1;32m   3544\u001b[0m             \u001b[0;32melse\u001b[0m\u001b[0;34m:\u001b[0m\u001b[0;34m\u001b[0m\u001b[0m\n\u001b[1;32m   3545\u001b[0m                 \u001b[0mindexer\u001b[0m \u001b[0;34m=\u001b[0m \u001b[0mnp\u001b[0m\u001b[0;34m.\u001b[0m\u001b[0marange\u001b[0m\u001b[0;34m(\u001b[0m\u001b[0mlen\u001b[0m\u001b[0;34m(\u001b[0m\u001b[0mself\u001b[0m\u001b[0;34m.\u001b[0m\u001b[0mitems\u001b[0m\u001b[0;34m)\u001b[0m\u001b[0;34m)\u001b[0m\u001b[0;34m[\u001b[0m\u001b[0misnull\u001b[0m\u001b[0;34m(\u001b[0m\u001b[0mself\u001b[0m\u001b[0;34m.\u001b[0m\u001b[0mitems\u001b[0m\u001b[0;34m)\u001b[0m\u001b[0;34m]\u001b[0m\u001b[0;34m\u001b[0m\u001b[0m\n",
      "\u001b[0;32m/home/antoniar/JupyterEnv/local/lib/python2.7/site-packages/pandas/indexes/base.pyc\u001b[0m in \u001b[0;36mget_loc\u001b[0;34m(self, key, method, tolerance)\u001b[0m\n\u001b[1;32m   2134\u001b[0m                 \u001b[0;32mreturn\u001b[0m \u001b[0mself\u001b[0m\u001b[0;34m.\u001b[0m\u001b[0m_engine\u001b[0m\u001b[0;34m.\u001b[0m\u001b[0mget_loc\u001b[0m\u001b[0;34m(\u001b[0m\u001b[0mkey\u001b[0m\u001b[0;34m)\u001b[0m\u001b[0;34m\u001b[0m\u001b[0m\n\u001b[1;32m   2135\u001b[0m             \u001b[0;32mexcept\u001b[0m \u001b[0mKeyError\u001b[0m\u001b[0;34m:\u001b[0m\u001b[0;34m\u001b[0m\u001b[0m\n\u001b[0;32m-> 2136\u001b[0;31m                 \u001b[0;32mreturn\u001b[0m \u001b[0mself\u001b[0m\u001b[0;34m.\u001b[0m\u001b[0m_engine\u001b[0m\u001b[0;34m.\u001b[0m\u001b[0mget_loc\u001b[0m\u001b[0;34m(\u001b[0m\u001b[0mself\u001b[0m\u001b[0;34m.\u001b[0m\u001b[0m_maybe_cast_indexer\u001b[0m\u001b[0;34m(\u001b[0m\u001b[0mkey\u001b[0m\u001b[0;34m)\u001b[0m\u001b[0;34m)\u001b[0m\u001b[0;34m\u001b[0m\u001b[0m\n\u001b[0m\u001b[1;32m   2137\u001b[0m \u001b[0;34m\u001b[0m\u001b[0m\n\u001b[1;32m   2138\u001b[0m         \u001b[0mindexer\u001b[0m \u001b[0;34m=\u001b[0m \u001b[0mself\u001b[0m\u001b[0;34m.\u001b[0m\u001b[0mget_indexer\u001b[0m\u001b[0;34m(\u001b[0m\u001b[0;34m[\u001b[0m\u001b[0mkey\u001b[0m\u001b[0;34m]\u001b[0m\u001b[0;34m,\u001b[0m \u001b[0mmethod\u001b[0m\u001b[0;34m=\u001b[0m\u001b[0mmethod\u001b[0m\u001b[0;34m,\u001b[0m \u001b[0mtolerance\u001b[0m\u001b[0;34m=\u001b[0m\u001b[0mtolerance\u001b[0m\u001b[0;34m)\u001b[0m\u001b[0;34m\u001b[0m\u001b[0m\n",
      "\u001b[0;32mpandas/index.pyx\u001b[0m in \u001b[0;36mpandas.index.IndexEngine.get_loc (pandas/index.c:4433)\u001b[0;34m()\u001b[0m\n",
      "\u001b[0;32mpandas/index.pyx\u001b[0m in \u001b[0;36mpandas.index.IndexEngine.get_loc (pandas/index.c:4279)\u001b[0;34m()\u001b[0m\n",
      "\u001b[0;32mpandas/src/hashtable_class_helper.pxi\u001b[0m in \u001b[0;36mpandas.hashtable.PyObjectHashTable.get_item (pandas/hashtable.c:13742)\u001b[0;34m()\u001b[0m\n",
      "\u001b[0;32mpandas/src/hashtable_class_helper.pxi\u001b[0m in \u001b[0;36mpandas.hashtable.PyObjectHashTable.get_item (pandas/hashtable.c:13696)\u001b[0;34m()\u001b[0m\n",
      "\u001b[0;31mKeyError\u001b[0m: 'fluxrat'"
     ]
    },
    {
     "data": {
      "image/png": "[encoded data removed]",
      "text/plain": [
       "<matplotlib.figure.Figure at 0x7f272efce550>"
      ]
     },
     "metadata": {},
     "output_type": "display_data"
    }
   ],
   "source": [
    "fig = plt.figure(1,figsize=(12,12))\n",
    "ax1 = fig.add_subplot(221)\n",
    "ax2 = fig.add_subplot(222)\n",
    "ax3 = fig.add_subplot(223)\n",
    "ax4 = fig.add_subplot(224)\n",
    "fontP = FontProperties()\n",
    "fontP.set_size('large')\n",
    "fig.subplots_adjust(hspace = .001, wspace = 0.001)\n",
    "ax1.set_ylabel(r'$\\eta_\\nu$', fontsize=28)\n",
    "ax3.set_ylabel(r'$V_\\nu$', fontsize=28)\n",
    "ax3.set_xlabel('Max Flux (Jy)', fontsize=24)\n",
    "ax4.set_xlabel('Max Flux / Median Flux', fontsize=24)\n",
    "\n",
    "for i in range(len(frequencies)):\n",
    "    plotdataTMP=plotdata.loc[(plotdata['classified']==frequencies[i])]\n",
    "    xdata_ax3=plotdataTMP['flux']\n",
    "    xdata_ax4=plotdataTMP['fluxrat']\n",
    "    ydata_ax1=plotdataTMP['eta']\n",
    "    ydata_ax3=plotdataTMP['V']\n",
    "    ax1.scatter(xdata_ax3, ydata_ax1,color=col[i], s=10., zorder=5)\n",
    "    ax2.scatter(xdata_ax4, ydata_ax1,color=col[i], s=10., zorder=6)\n",
    "    ax3.scatter(xdata_ax3, ydata_ax3,color=col[i], s=10., zorder=7)\n",
    "    ax4.scatter(xdata_ax4, ydata_ax3,color=col[i], s=10., zorder=8)\n",
    "    ax4.legend(freq_labels, loc=4, prop=fontP)\n",
    "\n",
    "Xax3=plotdata['flux']\n",
    "Xax4=plotdata['flxrat']\n",
    "Yax1=plotdata['eta']\n",
    "Yax3=plotdata['V']\n",
    "ax1.set_yscale('log')\n",
    "ax1.set_xscale('log')\n",
    "ax2.set_yscale('log')\n",
    "ax3.set_yscale('log')\n",
    "ax3.set_xscale('log')\n",
    "ax4.set_yscale('log')\n",
    "xmin_ax3=10.**(int(np.log10(min(Xax3))-1.1))\n",
    "xmax_ax3=10.**(int(np.log10(max(Xax3))+1.2))\n",
    "xmin_ax4=0.8\n",
    "xmax_ax4=int(max(xdata_ax4)+0.5)\n",
    "ymin_ax1=10.**(int(np.log10(min(Yax1))-1.1))\n",
    "ymax_ax1=10.**(int(np.log10(max(Yax1))+1.2))\n",
    "ymin_ax3=10.**(int(np.log10(min(Yax3))-1.1))\n",
    "ymax_ax3=10.**(int(np.log10(max(Yax3))+1.2))\n",
    "ax1.set_ylim(ymin_ax1,ymax_ax1)\n",
    "ax3.set_ylim(ymin_ax3,ymax_ax3)\n",
    "ax3.set_xlim(xmin_ax3,xmax_ax3)\n",
    "ax4.set_xlim(xmin_ax4,xmax_ax4)\n",
    "ax1.set_xlim( ax3.get_xlim() )\n",
    "ax4.set_ylim( ax3.get_ylim() )\n",
    "ax2.set_xlim( ax4.get_xlim() )\n",
    "ax2.set_ylim( ax1.get_ylim() )\n",
    "ax1.xaxis.set_major_formatter(nullfmt)\n",
    "ax4.yaxis.set_major_formatter(nullfmt)\n",
    "ax2.xaxis.set_major_formatter(nullfmt)\n",
    "ax2.yaxis.set_major_formatter(nullfmt)"
   ]
  },
  {
   "cell_type": "code",
   "execution_count": null,
   "metadata": {
    "collapsed": true
   },
   "outputs": [],
   "source": []
  }
 ],
 "metadata": {
  "kernelspec": {
   "display_name": "Python 2",
   "language": "python",
   "name": "python2"
  },
  "language_info": {
   "codemirror_mode": {
    "name": "ipython",
    "version": 2
   },
   "file_extension": ".py",
   "mimetype": "text/x-python",
   "name": "python",
   "nbconvert_exporter": "python",
   "pygments_lexer": "ipython2",
   "version": "2.7.6"
  }
 },
 "nbformat": 4,
 "nbformat_minor": 2
}
